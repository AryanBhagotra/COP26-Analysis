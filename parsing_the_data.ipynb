{
  "nbformat": 4,
  "nbformat_minor": 0,
  "metadata": {
    "colab": {
      "provenance": []
    },
    "kernelspec": {
      "name": "python3",
      "display_name": "Python 3"
    },
    "language_info": {
      "name": "python"
    }
  },
  "cells": [
    {
      "cell_type": "code",
      "execution_count": 1,
      "metadata": {
        "id": "-Roe5BB-Cfgx"
      },
      "outputs": [],
      "source": [
        "import json\n",
        "import pandas as pd\n",
        "from glob import glob\n",
        "from datetime import datetime\n",
        "import numpy as np"
      ]
    },
    {
      "cell_type": "code",
      "source": [
        "during_dfs = []\n",
        "for file in glob('during/*.json'):\n",
        "    with open(file) as f:\n",
        "        data = json.load(f)\n",
        "    country = file.split('/')[1].split('.')[0]\n",
        "    print(country)\n",
        "    country_df = []\n",
        "    for lst in data['list']:\n",
        "        ts = int(lst['dt'])    \n",
        "        date = datetime.utcfromtimestamp(ts).strftime('%Y-%m-%d %H:%M:%S')\n",
        "        components_df = pd.json_normalize(lst['components'])\n",
        "        aqi_df = pd.json_normalize(lst['main'])\n",
        "        ts_df = pd.DataFrame({'Date': [date]})\n",
        "        country_df.append(pd.concat([ts_df, aqi_df, components_df], axis=1))\n",
        "    data_df = pd.concat(country_df)\n",
        "    data_df['Country'] = country\n",
        "    during_dfs.append(data_df)"
      ],
      "metadata": {
        "id": "4bB_hzOOCoMm"
      },
      "execution_count": 2,
      "outputs": []
    },
    {
      "cell_type": "code",
      "source": [
        "pd.concat(during_dfs).to_csv('data/during.csv', index=False)"
      ],
      "metadata": {
        "id": "QUBY03MLQmHt"
      },
      "execution_count": null,
      "outputs": []
    },
    {
      "cell_type": "code",
      "source": [
        "pre_dfs = []\n",
        "for file in glob('pre/*.json'):\n",
        "    with open(file) as f:\n",
        "        data = json.load(f)\n",
        "    country = file.split('/')[1].split('.')[0]\n",
        "    print(country)\n",
        "    country_df = []\n",
        "    for lst in data['list']:\n",
        "        ts = int(lst['dt'])    \n",
        "        date = datetime.utcfromtimestamp(ts).strftime('%Y-%m-%d %H:%M:%S')\n",
        "        components_df = pd.json_normalize(lst['components'])\n",
        "        aqi_df = pd.json_normalize(lst['main'])\n",
        "        ts_df = pd.DataFrame({'Date': [date]})\n",
        "        country_df.append(pd.concat([ts_df, aqi_df, components_df], axis=1))\n",
        "    data_df = pd.concat(country_df)\n",
        "    data_df['Country'] = country\n",
        "    pre_dfs.append(data_df)\n",
        "    \n",
        "pd.concat(pre_dfs).to_csv('data/pre.csv', index=False)"
      ],
      "metadata": {
        "id": "87iVf93rQo9W"
      },
      "execution_count": null,
      "outputs": []
    },
    {
      "cell_type": "code",
      "source": [
        "post_dfs = []\n",
        "for file in glob('post/*.json'):\n",
        "    with open(file) as f:\n",
        "        data = json.load(f)\n",
        "    country = file.split('/')[1].split('.')[0]\n",
        "    print(country)\n",
        "    country_df = []\n",
        "    for lst in data['list']:\n",
        "        ts = int(lst['dt'])    \n",
        "        date = datetime.utcfromtimestamp(ts).strftime('%Y-%m-%d %H:%M:%S')\n",
        "        components_df = pd.json_normalize(lst['components'])\n",
        "        aqi_df = pd.json_normalize(lst['main'])\n",
        "        ts_df = pd.DataFrame({'Date': [date]})\n",
        "        country_df.append(pd.concat([ts_df, aqi_df, components_df], axis=1))\n",
        "    data_df = pd.concat(country_df)\n",
        "    data_df['Country'] = country\n",
        "    post_dfs.append(data_df)\n",
        "    \n",
        "pd.concat(post_dfs).to_csv('data/post.csv', index=False)"
      ],
      "metadata": {
        "id": "tdUaQBRFQ0Bb"
      },
      "execution_count": null,
      "outputs": []
    },
    {
      "cell_type": "code",
      "source": [
        "pre_df = pd.read_csv('data/pre.csv')\n",
        "pre_df.head()"
      ],
      "metadata": {
        "id": "2blMxYZYQ61s"
      },
      "execution_count": null,
      "outputs": []
    },
    {
      "cell_type": "code",
      "source": [
        "df1, df2 = np.array_split(pre_df, 2)"
      ],
      "metadata": {
        "id": "8akhcRTLQ8xc"
      },
      "execution_count": null,
      "outputs": []
    },
    {
      "cell_type": "code",
      "source": [
        "df1.to_csv('data/pre1.csv', index=False)\n",
        "df2.to_csv('data/pre2.csv', index=False)"
      ],
      "metadata": {
        "id": "WhHTuwsFQ_uh"
      },
      "execution_count": null,
      "outputs": []
    }
  ]
}